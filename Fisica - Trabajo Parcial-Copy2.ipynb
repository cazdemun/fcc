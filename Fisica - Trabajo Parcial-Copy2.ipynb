{
 "cells": [
  {
   "cell_type": "markdown",
   "metadata": {},
   "source": [
    "# Trabajo Parcial - Física"
   ]
  },
  {
   "cell_type": "markdown",
   "metadata": {},
   "source": [
    "# 1. Movimiento de un paracaidista\n",
    "\n",
    "## a. Parámetros\n",
    "\n",
    "|               Parámetros                           |       Valores      |\n",
    "|:----------------------------------------------------|:------------------:|\n",
    "| Coeficiente de resistencia (C<sub>D</sub>)         |     1,17           |\n",
    "| Densidad del aire (kg/m<sup>3</sup>)               |     1,20           | \n",
    "| Masa del paracaidista (kg)                         |     80, 0          | \n",
    "| Área transversal del paracaidista (m<sup>2</sup>)  |    [6,00; 10,0]    | \n",
    "| Rapidez inicial (m/s)                              |    [0,00; 5,00]    | \n",
    "| Tiempo en que abre el paracaídas (s)               |    [15,0; 23,0]    |\n",
    "| Altura inicial (m)                                 |    [3 000; 3 500]   |"
   ]
  },
  {
   "cell_type": "code",
   "execution_count": 3,
   "metadata": {
    "collapsed": true
   },
   "outputs": [],
   "source": [
    "import matplotlib.pyplot as plt\n",
    "import random\n",
    "\n",
    "resistencia = 1.17\n",
    "densidad_aire = 1.20\n",
    "masa = 80.00\n",
    "area = float(format(random.uniform(6, 10), '.2f'))\n",
    "rapidez_i = float(format(random.uniform(0, 5), '.2f'))\n",
    "tiempo_abre_paracaidas = float(format(random.uniform(15, 23), '.2f'))\n",
    "altura_i = float(format(random.uniform(3000,3500), '.2f'))\n",
    "\n",
    "gravedad = -9.81\n",
    "k = (resistencia * densidad_aire * area) / 2"
   ]
  },
  {
   "cell_type": "code",
   "execution_count": 4,
   "metadata": {
    "scrolled": true
   },
   "outputs": [
    {
     "name": "stdout",
     "output_type": "stream",
     "text": [
      "Resistencia: 1.17\n",
      "Densidad del aire: 1.20\n",
      "Masa del paracaidista: 80.00\n",
      "Area transversal paracaidista:  9.7\n",
      "Rapidez inicial:  0.18\n",
      "Tiempo en que se abre el paracaidas:  22.95\n",
      "Altura inicial:  3425.05\n",
      "Gravedad:  -9.81\n",
      "Constante 'k': 6.81\n"
     ]
    }
   ],
   "source": [
    "print(\"Resistencia: {0:.2f}\".format(resistencia))\n",
    "print(\"Densidad del aire: {0:.2f}\".format(densidad_aire))\n",
    "print(\"Masa del paracaidista: {0:.2f}\".format(masa))\n",
    "print(\"Area transversal paracaidista: \", area)\n",
    "print(\"Rapidez inicial: \",rapidez_i)\n",
    "print(\"Tiempo en que se abre el paracaidas: \", tiempo_abre_paracaidas)\n",
    "print(\"Altura inicial: \", altura_i)\n",
    "print(\"Gravedad: \", gravedad)\n",
    "print(\"Constante 'k': {0:.2f}\".format(k))"
   ]
  },
  {
   "cell_type": "markdown",
   "metadata": {},
   "source": [
    "## b. Generación de datos (posición, velocidad y aceleración)"
   ]
  },
  {
   "cell_type": "markdown",
   "metadata": {},
   "source": [
    "$$tap = tiempo\\hspace{1mm}abre\\hspace{1mm}paracaidas$$\n",
    "\n",
    "$$tde = tiempo\\hspace{1mm}de\\hspace{1mm}equilibrio$$\n",
    "\n",
    "### Posición\n",
    "\n",
    "$$x_{(t)} =     \\left \\{ \\begin{array}{rcl}\n",
    "x_0 + v_0t + \\frac{1}{2}at^2 & \\mbox{,} & 0\\leq t < tap \\\\ \n",
    "x_{(tap)}+ v_{(tap)}t + \\frac{1}{2}a_{(t)}(t-tap)^2 & \\mbox{,} & tap \\leq t < tde \\\\\n",
    "x_{(tde)} + v(t-tde) & \\mbox{,} & tde \\leq t < tiempo\\hspace{1mm}final\n",
    "\\end{array}\\right.$$\n",
    "\n",
    "### Velocidad\n",
    "\n",
    "$$v_{(t)} =     \\left \\{ \\begin{array}{rcl}\n",
    "v_0 + at & \\mbox{,} & 0\\leq t < tap \\\\ \n",
    "v_{(tap)} + a_{(t)}(t-tap) & \\mbox{,} & tap \\leq t < tde \\\\\n",
    "\\sqrt{\\frac{m \\mid g \\mid}{k}} & \\mbox{,} & tde \\leq t \\leq tiempo\\hspace{1mm}final\n",
    "\\end{array}\\right.$$\n",
    "\n",
    "### Aceleración\n",
    "\n",
    "$$a_{(t)} =     \\left \\{ \\begin{array}{rcl}\n",
    "g & \\mbox{,} & 0\\leq t < tap \\\\ \n",
    "{\\displaystyle \\frac{mg + kv_{(t)}^2}{m}}  & \\mbox{,} & tap \\leq t < tde \\\\\n",
    "0 & \\mbox{,} & tde \\leq t \\leq tiempo\\hspace{1mm}final\n",
    "\\end{array}\\right.$$"
   ]
  },
  {
   "cell_type": "code",
   "execution_count": 19,
   "metadata": {
    "scrolled": false
   },
   "outputs": [],
   "source": [
    "import math\n",
    "\n",
    "posicion = []\n",
    "velocidad = []\n",
    "aceleracion = []\n",
    "fuerza = []\n",
    "tiempo = []\n",
    "\n",
    "tap = tiempo_abre_paracaidas\n",
    "\n",
    "t = 0\n",
    "dt = 0.001\n",
    "v = rapidez_i + gravedad * tap\n",
    "a = (masa * gravedad + k * pow(v, 2)) / masa\n",
    "f = masa * a\n",
    "x = altura_i + (rapidez_i + v) * tap / 2\n",
    "\n",
    "tiempo.append(t + tap)\n",
    "velocidad.append(v)\n",
    "aceleracion.append(a)\n",
    "fuerza.append(f)\n",
    "posicion.append(x)\n",
    "\n",
    "##while ( a > 0):\n",
    "for i in range(0, 10000):\n",
    "    t = t + dt      \n",
    "    v = v + a * dt\n",
    "    a = (masa * gravedad + k * pow(v, 2)) / masa\n",
    "    f = masa * a\n",
    "    x = x + ((velocidad[-1] + v) * dt / 2)\n",
    "    tiempo.append(t + tap)\n",
    "    velocidad.append(v)\n",
    "    aceleracion.append(a)\n",
    "    fuerza.append(f)\n",
    "    posicion.append(x)\n",
    "    \n",
    "def my_range(start, end, step):\n",
    "    while start <= end:\n",
    "        yield start\n",
    "        start += step\n",
    "        \n",
    "def setPlot(a, b):\n",
    "    width = a\n",
    "    height = b\n",
    "    plt.figure(figsize=(width, height))\n",
    "    "
   ]
  },
  {
   "cell_type": "markdown",
   "metadata": {},
   "source": [
    "## c. Gráficos"
   ]
  },
  {
   "cell_type": "code",
   "execution_count": 20,
   "metadata": {
    "scrolled": false
   },
   "outputs": [
    {
     "name": "stdout",
     "output_type": "stream",
     "text": [
      "10001\n",
      "22.95 32.949999999999896 9.999999999999897\n",
      "-224.9595 -10.735569379031835\n",
      "4297.712310676479 4.0368281730707165e-07\n"
     ]
    }
   ],
   "source": [
    "print(len(tiempo))\n",
    "print(tiempo[0], tiempo[-1], tiempo[-1] -tiempo[0])\n",
    "print(velocidad[0], velocidad[-1])\n",
    "print(aceleracion[0], aceleracion[-1])"
   ]
  },
  {
   "cell_type": "markdown",
   "metadata": {},
   "source": [
    "### 5. Comparativa de la velocidad, aceleración y posición durante la resolucion de las ecuaciones diferenciales"
   ]
  },
  {
   "cell_type": "code",
   "execution_count": 21,
   "metadata": {
    "scrolled": false
   },
   "outputs": [
    {
     "data": {
      "image/png": "[encoded data removed]",
      "text/plain": [
       "<matplotlib.figure.Figure at 0x7f3dcf141d30>"
      ]
     },
     "metadata": {},
     "output_type": "display_data"
    }
   ],
   "source": [
    "setPlot(20, 5)\n",
    "plt.plot(tiempo, velocidad)\n",
    "plt.plot(tiempo, aceleracion)\n",
    "plt.plot(tiempo, posicion)\n",
    "plt.show()"
   ]
  }
 ],
 "metadata": {
  "kernelspec": {
   "display_name": "Python 3",
   "language": "python",
   "name": "python3"
  },
  "language_info": {
   "codemirror_mode": {
    "name": "ipython",
    "version": 3
   },
   "file_extension": ".py",
   "mimetype": "text/x-python",
   "name": "python",
   "nbconvert_exporter": "python",
   "pygments_lexer": "ipython3",
   "version": "3.6.3"
  }
 },
 "nbformat": 4,
 "nbformat_minor": 2
}
