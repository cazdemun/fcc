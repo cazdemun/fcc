{
 "cells": [
  {
   "cell_type": "code",
   "execution_count": 1,
   "metadata": {},
   "outputs": [
    {
     "name": "stdout",
     "output_type": "stream",
     "text": [
      "hola asdfaksdjfhakldshfalkdfhaklsdjfhalkdsfjalkdsaklsdjfh\n"
     ]
    }
   ],
   "source": [
    "print(\"hola asdfaksdjfhakldshfalkdfhaklsdjfhalkdsfjalkdsaklsdjfh\")"
   ]
  },
  {
   "cell_type": "markdown",
   "metadata": {},
   "source": [
    "# Trabajo Parcial - Física\n",
    "Disclaimer, tengo miedo que se vaya la conexion aquí"
   ]
  },
  {
   "cell_type": "code",
   "execution_count": 4,
   "metadata": {},
   "outputs": [
    {
     "data": {
      "image/png": "[encoded data removed]",
      "text/plain": [
       "<matplotlib.figure.Figure at 0x7ffa452baa90>"
      ]
     },
     "metadata": {},
     "output_type": "display_data"
    }
   ],
   "source": [
    "import matplotlib.pyplot as plt\n",
    "\n",
    "x=range(50)\n",
    "\n",
    "y=range(50)\n",
    "\n",
    "plt.plot(x, y)\n",
    "\n",
    "plt.show()"
   ]
  },
  {
   "cell_type": "code",
   "execution_count": 3,
   "metadata": {},
   "outputs": [
    {
     "data": {
      "text/plain": [
       "range(0, 50)"
      ]
     },
     "execution_count": 3,
     "metadata": {},
     "output_type": "execute_result"
    }
   ],
   "source": [
    "range(0, 50)"
   ]
  },
  {
   "cell_type": "markdown",
   "metadata": {},
   "source": [
    "# Movimiento de un paracaidista\n",
    "\n",
    "## a. Parámetros\n",
    "\n",
    "|               Parámetros                           |       Valores      |\n",
    "|:----------------------------------------------------|:------------------:|\n",
    "| Coeficiente de resistencia (C<sub>D</sub>)         |     1,17           |\n",
    "| Densidad del aire (kg/m<sup>3</sup>)               |     1,20           | \n",
    "| Masa del paracaidista (kg)                         |     80, 0          | \n",
    "| Área transversal del paracaidista (m<sup>3</sup>)  |    [6,00; 10,0]    | \n",
    "| Rapidez inicial (m/s)                              |    [0,00; 5,00]    | \n",
    "| Tiempo en que abre el paracaídas (s)               |    [15,0; 23,0]    |\n",
    "| Altura inicial (m)                                 |    [3 000;3 500]   |"
   ]
  },
  {
   "cell_type": "code",
   "execution_count": 34,
   "metadata": {},
   "outputs": [],
   "source": [
    "import random\n",
    "\n",
    "resistencia = 1.17\n",
    "densidad_aire = 1.20\n",
    "masa_paracaidista = 80.0\n",
    "area_paracaidista = random.uniform(6.00,10.01)\n",
    "rapidez_inicial = random.uniform(0.00,5.01)\n",
    "tiempo_abre_paracaidas = random.uniform(15.00,23.01)\n",
    "altura_inicial = random.uniform(3000,3501)\n",
    "\n",
    "gravedad = -9.81"
   ]
  },
  {
   "cell_type": "code",
   "execution_count": 35,
   "metadata": {
    "scrolled": true
   },
   "outputs": [
    {
     "name": "stdout",
     "output_type": "stream",
     "text": [
      "Resistencia:  1.17\n",
      "Densidad del aire:  1.2\n",
      "Masa del paracaidista:  80.0\n",
      "Area transversal paracaidista:  9.024951532685282\n",
      "Rapidez inicial:  1.794236544796579\n",
      "Tiempo en que se abre el paracaidas:  17.534611713920935\n",
      "Altura inicial:  3444.5959322776434\n"
     ]
    }
   ],
   "source": [
    "print(\"Resistencia: \", resistencia)\n",
    "print(\"Densidad del aire: \", densidad_aire)\n",
    "print(\"Masa del paracaidista: \", masa_paracaidista)\n",
    "print(\"Area transversal paracaidista: \", area_paracaidista)\n",
    "print(\"Rapidez inicial: \", rapidez_inicial)\n",
    "print(\"Tiempo en que se abre el paracaidas: \", tiempo_abre_paracaidas) \n",
    "print(\"Altura inicial: \", altura_inicial)"
   ]
  },
  {
   "cell_type": "markdown",
   "metadata": {},
   "source": [
    "## b. Generación de datos (posición, velocidad y aceleración)\n",
    "\n",
    "$$c = \\sqrt{a^2 + b^2}$$\n",
    "\n",
    "$$F(k) = \\int_{-\\infty}^{\\infty} f(x) e^{2\\pi i k} dx$$"
   ]
  },
  {
   "cell_type": "code",
   "execution_count": 48,
   "metadata": {},
   "outputs": [],
   "source": [
    "k = (resistencia * densidad_aire * area_paracaidista) / 2\n",
    "\n",
    "import math\n",
    "\n",
    "def calcularVelocidad(tiempo):\n",
    "    if(tiempo < tiempo_abre_paracaidas):\n",
    "        return rapidez_inicial + gravedad * tiempo\n",
    "    else:\n",
    "        return -math.sqrt(masa_paracaidista * abs(gravedad) / k)\n",
    "    \n",
    "def calcularPosicion(tiempo):\n",
    "    if(tiempo < tiempo_abre_paracaidas):\n",
    "        return altura_inicial - rapidez_inicial * tiempo - gravedad * pow(tiempo, 2) / 2\n",
    "    else:\n",
    "        return altura_inicial - rapidez_inicial * tiempo_abre_paracaidas + gravedad * pow(tiempo, 2) / 2\n",
    "        \n",
    "\n",
    "#aceleracion = (k*velocidad - masa_paracaidista*gravedad)/masa_paracaidista"
   ]
  },
  {
   "cell_type": "code",
   "execution_count": 44,
   "metadata": {},
   "outputs": [
    {
     "name": "stdout",
     "output_type": "stream",
     "text": [
      "0 :  1.794236544796579\n",
      "1 :  -8.015763455203421\n",
      "2 :  -17.825763455203422\n",
      "3 :  -27.63576345520342\n",
      "4 :  -37.445763455203426\n",
      "5 :  -47.25576345520343\n",
      "6 :  -57.065763455203424\n",
      "7 :  -66.87576345520343\n",
      "8 :  -76.68576345520343\n",
      "9 :  -86.49576345520343\n",
      "10 :  -96.30576345520343\n",
      "11 :  -106.11576345520344\n",
      "12 :  -115.92576345520342\n",
      "13 :  -125.73576345520343\n",
      "14 :  -135.54576345520343\n",
      "15 :  -145.35576345520343\n",
      "16 :  -155.16576345520343\n",
      "17 :  -164.97576345520343\n",
      "18 :  -11.129829260251485\n",
      "19 :  -11.129829260251485\n",
      "20 :  -11.129829260251485\n",
      "21 :  -11.129829260251485\n",
      "22 :  -11.129829260251485\n",
      "23 :  -11.129829260251485\n",
      "24 :  -11.129829260251485\n",
      "25 :  -11.129829260251485\n",
      "26 :  -11.129829260251485\n",
      "27 :  -11.129829260251485\n",
      "28 :  -11.129829260251485\n",
      "29 :  -11.129829260251485\n",
      "30 :  -11.129829260251485\n",
      "31 :  -11.129829260251485\n",
      "32 :  -11.129829260251485\n",
      "33 :  -11.129829260251485\n",
      "34 :  -11.129829260251485\n",
      "35 :  -11.129829260251485\n",
      "36 :  -11.129829260251485\n",
      "37 :  -11.129829260251485\n",
      "38 :  -11.129829260251485\n",
      "39 :  -11.129829260251485\n",
      "40 :  -11.129829260251485\n",
      "41 :  -11.129829260251485\n",
      "42 :  -11.129829260251485\n",
      "43 :  -11.129829260251485\n",
      "44 :  -11.129829260251485\n",
      "45 :  -11.129829260251485\n",
      "46 :  -11.129829260251485\n",
      "47 :  -11.129829260251485\n",
      "48 :  -11.129829260251485\n",
      "49 :  -11.129829260251485\n",
      "50 :  -11.129829260251485\n"
     ]
    }
   ],
   "source": [
    "for t in range(0, 51):\n",
    "    print(t, \": \",calcularVelocidad(t))"
   ]
  },
  {
   "cell_type": "code",
   "execution_count": 51,
   "metadata": {},
   "outputs": [
    {
     "name": "stdout",
     "output_type": "stream",
     "text": [
      "0 :  3444.5959322776434\n",
      "1 :  3447.706695732847\n",
      "2 :  3460.62745918805\n",
      "3 :  3483.3582226432536\n",
      "4 :  3515.898986098457\n",
      "5 :  3558.2497495536604\n",
      "6 :  3610.4105130088637\n",
      "7 :  3672.381276464067\n",
      "8 :  3744.1620399192707\n",
      "9 :  3825.7528033744743\n",
      "10 :  3917.153566829678\n",
      "11 :  4018.3643302848814\n",
      "12 :  4129.385093740085\n",
      "13 :  4250.215857195288\n",
      "14 :  4380.856620650491\n",
      "15 :  4521.307384105695\n",
      "16 :  4671.568147560898\n",
      "17 :  4831.638911016102\n",
      "18 :  1823.914691141708\n",
      "19 :  1642.429691141708\n",
      "20 :  1451.1346911417081\n",
      "21 :  1250.029691141708\n",
      "22 :  1039.1146911417081\n",
      "23 :  818.3896911417078\n",
      "24 :  587.8546911417079\n",
      "25 :  347.5096911417081\n",
      "26 :  97.35469114170792\n",
      "27 :  -162.61030885829223\n",
      "28 :  -432.38530885829186\n",
      "29 :  -711.9703088582924\n",
      "30 :  -1001.3653088582919\n",
      "31 :  -1300.5703088582918\n",
      "32 :  -1609.5853088582921\n",
      "33 :  -1928.410308858292\n",
      "34 :  -2257.045308858292\n",
      "35 :  -2595.490308858292\n",
      "36 :  -2943.745308858292\n",
      "37 :  -3301.8103088582925\n",
      "38 :  -3669.6853088582925\n",
      "39 :  -4047.370308858292\n",
      "40 :  -4434.865308858292\n",
      "41 :  -4832.170308858293\n",
      "42 :  -5239.285308858292\n",
      "43 :  -5656.2103088582935\n",
      "44 :  -6082.945308858292\n",
      "45 :  -6519.490308858292\n",
      "46 :  -6965.845308858294\n",
      "47 :  -7422.010308858293\n",
      "48 :  -7887.985308858293\n",
      "49 :  -8363.770308858293\n",
      "50 :  -8849.365308858292\n"
     ]
    }
   ],
   "source": [
    "for t in range(0, 51):\n",
    "    print(t, \": \",calcularPosicion(t))"
   ]
  },
  {
   "cell_type": "markdown",
   "metadata": {},
   "source": [
    "## c. Gráficos\n",
    "\n",
    "1. Posición vs tiempo\n",
    "2. Velocidad vs tiempo\n",
    "3. Aceleración vs tiempo\n",
    "4. Fuerza de arrastre vs tiempo"
   ]
  },
  {
   "cell_type": "code",
   "execution_count": null,
   "metadata": {
    "collapsed": true
   },
   "outputs": [],
   "source": []
  },
  {
   "cell_type": "code",
   "execution_count": 45,
   "metadata": {},
   "outputs": [
    {
     "name": "stdout",
     "output_type": "stream",
     "text": [
      "2. Velocidad vs tiempo\n"
     ]
    },
    {
     "data": {
      "image/png": "[encoded data removed]",
      "text/plain": [
       "<matplotlib.figure.Figure at 0x7ffa44f9ad30>"
      ]
     },
     "metadata": {},
     "output_type": "display_data"
    }
   ],
   "source": [
    "x = range(50)\n",
    "\n",
    "y = [calcularVelocidad(i) for i in range(50)]\n",
    "\n",
    "print(\"2. Velocidad vs tiempo\")\n",
    "\n",
    "plt.plot(x, y)\n",
    "\n",
    "plt.show()"
   ]
  }
 ],
 "metadata": {
  "kernelspec": {
   "display_name": "Python 3",
   "language": "python",
   "name": "python3"
  },
  "language_info": {
   "codemirror_mode": {
    "name": "ipython",
    "version": 3
   },
   "file_extension": ".py",
   "mimetype": "text/x-python",
   "name": "python",
   "nbconvert_exporter": "python",
   "pygments_lexer": "ipython3",
   "version": "3.6.3"
  }
 },
 "nbformat": 4,
 "nbformat_minor": 2
}
